{
 "cells": [
  {
   "cell_type": "code",
   "execution_count": 1,
   "id": "99107d4b",
   "metadata": {},
   "outputs": [],
   "source": [
    "import pandas as pd"
   ]
  },
  {
   "cell_type": "code",
   "execution_count": 2,
   "id": "b3f6fd62",
   "metadata": {},
   "outputs": [],
   "source": [
    "from project8 import CashFlowModel"
   ]
  },
  {
   "cell_type": "code",
   "execution_count": 3,
   "id": "c74b9850",
   "metadata": {},
   "outputs": [],
   "source": [
    "BEL = CashFlowModel()"
   ]
  },
  {
   "cell_type": "code",
   "execution_count": 4,
   "id": "cbf1231a",
   "metadata": {},
   "outputs": [
    {
     "data": {
      "text/plain": [
       "{}"
      ]
     },
     "execution_count": 4,
     "metadata": {},
     "output_type": "execute_result"
    }
   ],
   "source": [
    "BEL.data"
   ]
  },
  {
   "cell_type": "code",
   "execution_count": 5,
   "id": "80e13176",
   "metadata": {},
   "outputs": [],
   "source": [
    "BEL.load_data_from_excel(r\"C:\\Users\\dell\\Desktop\\Sens testing\\data.xlsx\")"
   ]
  },
  {
   "cell_type": "code",
   "execution_count": 6,
   "id": "97453876",
   "metadata": {},
   "outputs": [
    {
     "data": {
      "text/plain": [
       "6856.998897480258"
      ]
     },
     "execution_count": 6,
     "metadata": {},
     "output_type": "execute_result"
    }
   ],
   "source": [
    "BEL.calculate_present_value()"
   ]
  },
  {
   "cell_type": "code",
   "execution_count": 7,
   "id": "4ee8ee6a",
   "metadata": {},
   "outputs": [],
   "source": [
    "BEL.sensitivity_test(1.1,1)"
   ]
  },
  {
   "cell_type": "code",
   "execution_count": 8,
   "id": "479e3dc4",
   "metadata": {},
   "outputs": [
    {
     "data": {
      "text/plain": [
       "6625.279476698494"
      ]
     },
     "execution_count": 8,
     "metadata": {},
     "output_type": "execute_result"
    }
   ],
   "source": [
    "BEL.calculate_present_value()"
   ]
  },
  {
   "cell_type": "code",
   "execution_count": 9,
   "id": "05b810c6",
   "metadata": {},
   "outputs": [],
   "source": [
    "BEL.sensitivity_test(1,1.1)"
   ]
  },
  {
   "cell_type": "code",
   "execution_count": 10,
   "id": "3b911b9b",
   "metadata": {},
   "outputs": [
    {
     "data": {
      "text/plain": [
       "7287.807424368345"
      ]
     },
     "execution_count": 10,
     "metadata": {},
     "output_type": "execute_result"
    }
   ],
   "source": [
    "BEL.calculate_present_value()"
   ]
  },
  {
   "cell_type": "code",
   "execution_count": 11,
   "id": "f212a599",
   "metadata": {},
   "outputs": [],
   "source": [
    "BEL.sensitivity_test(1.05,1.1)"
   ]
  },
  {
   "cell_type": "code",
   "execution_count": 13,
   "id": "3a5d149c",
   "metadata": {},
   "outputs": [
    {
     "data": {
      "text/plain": [
       "7870.3328628039"
      ]
     },
     "execution_count": 13,
     "metadata": {},
     "output_type": "execute_result"
    }
   ],
   "source": [
    "BEL.calculate_present_value()"
   ]
  },
  {
   "cell_type": "code",
   "execution_count": null,
   "id": "464ef8b6",
   "metadata": {},
   "outputs": [],
   "source": []
  }
 ],
 "metadata": {
  "kernelspec": {
   "display_name": "Python 3 (ipykernel)",
   "language": "python",
   "name": "python3"
  },
  "language_info": {
   "codemirror_mode": {
    "name": "ipython",
    "version": 3
   },
   "file_extension": ".py",
   "mimetype": "text/x-python",
   "name": "python",
   "nbconvert_exporter": "python",
   "pygments_lexer": "ipython3",
   "version": "3.10.9"
  }
 },
 "nbformat": 4,
 "nbformat_minor": 5
}
