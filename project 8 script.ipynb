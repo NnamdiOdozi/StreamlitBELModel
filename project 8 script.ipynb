{
 "cells": [
  {
   "cell_type": "code",
   "execution_count": 2,
   "id": "99107d4b",
   "metadata": {},
   "outputs": [],
   "source": [
    "import pandas as pd"
   ]
  },
  {
   "cell_type": "code",
   "execution_count": 3,
   "id": "b3f6fd62",
   "metadata": {},
   "outputs": [],
   "source": [
    "from project8 import CashFlowModel"
   ]
  },
  {
   "cell_type": "code",
   "execution_count": 4,
   "id": "c74b9850",
   "metadata": {},
   "outputs": [],
   "source": [
    "BEL = CashFlowModel()"
   ]
  },
  {
   "cell_type": "code",
   "execution_count": 5,
   "id": "cbf1231a",
   "metadata": {},
   "outputs": [
    {
     "data": {
      "text/plain": [
       "{}"
      ]
     },
     "execution_count": 5,
     "metadata": {},
     "output_type": "execute_result"
    }
   ],
   "source": [
    "BEL.data"
   ]
  },
  {
   "cell_type": "code",
   "execution_count": 6,
   "id": "80e13176",
   "metadata": {},
   "outputs": [],
   "source": [
    "BEL.load_data_from_excel(r\"data.xlsx\")"
   ]
  },
  {
   "cell_type": "code",
   "execution_count": 7,
   "id": "97453876",
   "metadata": {},
   "outputs": [
    {
     "data": {
      "text/plain": [
       "6856.998897480258"
      ]
     },
     "execution_count": 7,
     "metadata": {},
     "output_type": "execute_result"
    }
   ],
   "source": [
    "BEL.calculate_present_value()"
   ]
  },
  {
   "cell_type": "code",
   "execution_count": 8,
   "id": "4ee8ee6a",
   "metadata": {},
   "outputs": [
    {
     "data": {
      "text/plain": [
       "6856.998897480258"
      ]
     },
     "execution_count": 8,
     "metadata": {},
     "output_type": "execute_result"
    }
   ],
   "source": [
    "BEL.sensitivity_test(1,1)"
   ]
  },
  {
   "cell_type": "code",
   "execution_count": 9,
   "id": "479e3dc4",
   "metadata": {},
   "outputs": [
    {
     "data": {
      "text/plain": [
       "6856.998897480258"
      ]
     },
     "execution_count": 9,
     "metadata": {},
     "output_type": "execute_result"
    }
   ],
   "source": [
    "BEL.calculate_present_value()"
   ]
  },
  {
   "cell_type": "code",
   "execution_count": 10,
   "id": "05b810c6",
   "metadata": {},
   "outputs": [
    {
     "data": {
      "text/plain": [
       "7542.698787228285"
      ]
     },
     "execution_count": 10,
     "metadata": {},
     "output_type": "execute_result"
    }
   ],
   "source": [
    "BEL.sensitivity_test(1,1.1)"
   ]
  },
  {
   "cell_type": "code",
   "execution_count": 11,
   "id": "3b911b9b",
   "metadata": {},
   "outputs": [
    {
     "data": {
      "text/plain": [
       "6856.998897480258"
      ]
     },
     "execution_count": 11,
     "metadata": {},
     "output_type": "execute_result"
    }
   ],
   "source": [
    "BEL.calculate_present_value()"
   ]
  },
  {
   "cell_type": "code",
   "execution_count": 12,
   "id": "f212a599",
   "metadata": {},
   "outputs": [
    {
     "data": {
      "text/plain": [
       "6856.998897480258"
      ]
     },
     "execution_count": 12,
     "metadata": {},
     "output_type": "execute_result"
    }
   ],
   "source": [
    "BEL.sensitivity_test(1,1)"
   ]
  },
  {
   "cell_type": "code",
   "execution_count": 13,
   "id": "3a5d149c",
   "metadata": {},
   "outputs": [
    {
     "data": {
      "text/plain": [
       "6856.998897480258"
      ]
     },
     "execution_count": 13,
     "metadata": {},
     "output_type": "execute_result"
    }
   ],
   "source": [
    "BEL.calculate_present_value()"
   ]
  },
  {
   "cell_type": "code",
   "execution_count": 27,
   "id": "464ef8b6",
   "metadata": {},
   "outputs": [
    {
     "data": {
      "text/plain": [
       "7542.698787228285"
      ]
     },
     "execution_count": 27,
     "metadata": {},
     "output_type": "execute_result"
    }
   ],
   "source": [
    "BEL.sensitivity_test(1,1.1)"
   ]
  },
  {
   "cell_type": "code",
   "execution_count": 29,
   "id": "dcc765fb-d4ab-4aa2-a23f-3838593bb1a2",
   "metadata": {},
   "outputs": [
    {
     "data": {
      "text/plain": [
       "6625.279476698494"
      ]
     },
     "execution_count": 29,
     "metadata": {},
     "output_type": "execute_result"
    }
   ],
   "source": [
    "BEL.sensitivity_test(1.1,1)"
   ]
  }
 ],
 "metadata": {
  "kernelspec": {
   "display_name": "Python 3 (ipykernel)",
   "language": "python",
   "name": "python3"
  },
  "language_info": {
   "codemirror_mode": {
    "name": "ipython",
    "version": 3
   },
   "file_extension": ".py",
   "mimetype": "text/x-python",
   "name": "python",
   "nbconvert_exporter": "python",
   "pygments_lexer": "ipython3",
   "version": "3.12.4"
  }
 },
 "nbformat": 4,
 "nbformat_minor": 5
}
